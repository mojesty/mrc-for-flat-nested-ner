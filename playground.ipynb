{
 "cells": [
  {
   "cell_type": "code",
   "execution_count": 1,
   "metadata": {},
   "outputs": [],
   "source": [
    "from allennlp.common import Params\n",
    "from allennlp.models import Model\n",
    "from allennlp.data.dataset_readers import DatasetReader\n",
    "from allennlp.data import Vocabulary\n",
    "from allennlp.data.dataset import Batch\n",
    "\n",
    "from typing import Tuple, List, Dict"
   ]
  },
  {
   "cell_type": "code",
   "execution_count": 2,
   "metadata": {},
   "outputs": [],
   "source": [
    "import matplotlib.pyplot as plt\n",
    "%matplotlib inline"
   ]
  },
  {
   "cell_type": "code",
   "execution_count": 3,
   "metadata": {},
   "outputs": [],
   "source": [
    "import numpy as np"
   ]
  },
  {
   "cell_type": "code",
   "execution_count": 4,
   "metadata": {},
   "outputs": [],
   "source": [
    "from allennlp.common.util import import_submodules\n",
    "import_submodules('al2_implementation')"
   ]
  },
  {
   "cell_type": "code",
   "execution_count": 5,
   "metadata": {},
   "outputs": [],
   "source": [
    "prefix = '/home/emelyanov-yi/models/ontonotes/mrc_al2/bert_lstm/'\n",
    "params = Params.from_file(prefix + 'config.json')\n",
    "vocab = Vocabulary.from_files(prefix + 'vocabulary/')\n",
    "reader = DatasetReader.from_params(params['dataset_reader'].duplicate())"
   ]
  },
  {
   "cell_type": "code",
   "execution_count": 6,
   "metadata": {},
   "outputs": [],
   "source": [
    "data_path = params['validation_data_path']"
   ]
  },
  {
   "cell_type": "code",
   "execution_count": 7,
   "metadata": {},
   "outputs": [],
   "source": [
    "model = Model.load(params.duplicate(), serialization_dir=prefix)"
   ]
  },
  {
   "cell_type": "code",
   "execution_count": 8,
   "metadata": {},
   "outputs": [],
   "source": [
    "instances_gen = list(reader.read(data_path))"
   ]
  },
  {
   "cell_type": "code",
   "execution_count": 9,
   "metadata": {},
   "outputs": [],
   "source": [
    "idx = 2550"
   ]
  },
  {
   "cell_type": "code",
   "execution_count": 20,
   "metadata": {},
   "outputs": [],
   "source": [
    "custom_instance = reader.text_to_instance(\n",
    "    [\"Apple.\", \"Inc.\", \"stock\", \"prices\", \"are\", \"12\", \"dollars\", \"each\", \"in\", \"United\", \"States\"],\n",
    "    ['stock', 'price', ',', 'quantity'],\n",
    "    [6],\n",
    "    [7],\n",
    "    type='random'\n",
    ")"
   ]
  },
  {
   "cell_type": "code",
   "execution_count": 21,
   "metadata": {},
   "outputs": [],
   "source": [
    "inst = custom_instance"
   ]
  },
  {
   "cell_type": "code",
   "execution_count": 22,
   "metadata": {},
   "outputs": [],
   "source": [
    "batch = Batch([custom_instance])\n",
    "batch.index_instances(vocab)\n",
    "res = model.forward_on_instance(custom_instance)"
   ]
  },
  {
   "cell_type": "code",
   "execution_count": 17,
   "metadata": {},
   "outputs": [],
   "source": [
    "idx += 1"
   ]
  },
  {
   "cell_type": "code",
   "execution_count": 18,
   "metadata": {},
   "outputs": [],
   "source": [
    "inst = instances_gen[idx]\n",
    "batch = Batch([inst])\n",
    "batch.index_instances(vocab)\n",
    "res = model.forward_on_instance(inst)"
   ]
  },
  {
   "cell_type": "code",
   "execution_count": 23,
   "metadata": {},
   "outputs": [
    {
     "data": {
      "image/png": "[encoded data removed]",
      "text/plain": [
       "<Figure size 1296x432 with 2 Axes>"
      ]
     },
     "metadata": {
      "needs_background": "light"
     },
     "output_type": "display_data"
    },
    {
     "name": "stdout",
     "output_type": "stream",
     "text": [
      "-----------Gold and prediction\n",
      "[CLS] stock price , quantity [SEP] Apple. Inc. stock prices are 12 \u001b[94m dollars each \u001b[0m in United States\n",
      "[CLS] stock price , quantity [SEP] Apple. Inc. stock prices are \u001b[94m 12 dollars \u001b[0m each in United States\n",
      "------------------Meta------------\n",
      "Instance with fields:\n",
      " \t context: TextField of length 17 with text: \n",
      " \t\t[[CLS], stock, price, ,, quantity, [SEP], Apple., Inc., stock, prices, are, 12, dollars, each, in,\n",
      "\t\tUnited, States]\n",
      " \t\tand TokenIndexers : {'tokens': 'PretrainedBertIndexer'} \n",
      " \t meta: MetadataField (print field.metadata to see specific information). \n",
      " \t answer_starts: SequenceLabelField of length 17 with labels:\n",
      " \t\t[False, False, False, False, False, False, False, False, False, False, False, False, True, False,\n",
      "\t\tFalse, False, False]\n",
      " \t\tin namespace: 'labels'. \n",
      " \t answer_ends: SequenceLabelField of length 17 with labels:\n",
      " \t\t[False, False, False, False, False, False, False, False, False, False, False, False, False, True,\n",
      "\t\tFalse, False, False]\n",
      " \t\tin namespace: 'labels'. \n",
      "\n",
      "random\n",
      "------------Prediction----------\n",
      "[0 0 0 0 0 0 0 0 0 0 0 1 0 0 0 0 0]\n",
      "[0 0 0 0 0 0 0 0 0 0 0 0 1 0 0 0 0]\n"
     ]
    }
   ],
   "source": [
    "# plt.figure(figsize=(18, 10))\n",
    "fig, (ax1, ax2) = plt.subplots(2, 1, sharex=True)\n",
    "fig.set_size_inches(18, 6)\n",
    "ax1.imshow(res['start_logits'].T, aspect='auto')\n",
    "\n",
    "ax2.imshow(res['end_logits'].T, aspect='auto')\n",
    "n_tokens = len(inst['context'].tokens)\n",
    "ax2.set_xticks(np.linspace(0, n_tokens-1, n_tokens))\n",
    "ax2.set_xticklabels(inst['context'].tokens, rotation=90)\n",
    "plt.show();\n",
    "\n",
    "print('-----------Gold and prediction')\n",
    "\n",
    "gold_spans = get_spans_from_arrays(inst['answer_starts'].labels, inst['answer_ends'].labels)\n",
    "print(highlight_answers(inst['context'], gold_spans))\n",
    "\n",
    "predicted_spans = get_spans_from_arrays(res['start_logits'].argmax(axis=1), res['end_logits'].argmax(axis=1))\n",
    "print(highlight_answers(inst['context'], predicted_spans))\n",
    "\n",
    "print('------------------Meta------------')\n",
    "print(inst)\n",
    "print(inst['meta'].metadata['type'])\n",
    "\n",
    "print('------------Prediction----------')\n",
    "print(res['start_logits'].argmax(axis=1))\n",
    "print(res['end_logits'].argmax(axis=1))"
   ]
  },
  {
   "cell_type": "code",
   "execution_count": 251,
   "metadata": {},
   "outputs": [
    {
     "data": {
      "text/plain": [
       "1375"
      ]
     },
     "execution_count": 251,
     "metadata": {},
     "output_type": "execute_result"
    }
   ],
   "source": [
    "idx"
   ]
  },
  {
   "cell_type": "code",
   "execution_count": 93,
   "metadata": {},
   "outputs": [
    {
     "data": {
      "text/plain": [
       "[(5, 7)]"
      ]
     },
     "execution_count": 93,
     "metadata": {},
     "output_type": "execute_result"
    }
   ],
   "source": [
    "get_spans_from_arrays(inst['answer_starts'].labels, inst['answer_ends'].labels)"
   ]
  },
  {
   "cell_type": "code",
   "execution_count": 12,
   "metadata": {},
   "outputs": [],
   "source": [
    "class bcolors:\n",
    "    HEADER = '\\033[95m'\n",
    "    OKBLUE = '\\033[94m'\n",
    "    OKGREEN = '\\033[92m'\n",
    "    WARNING = '\\033[93m'\n",
    "    FAIL = '\\033[91m'\n",
    "    ENDC = '\\033[0m'\n",
    "    BOLD = '\\033[1m'\n",
    "    UNDERLINE = '\\033[4m'"
   ]
  },
  {
   "cell_type": "code",
   "execution_count": 13,
   "metadata": {},
   "outputs": [],
   "source": [
    "def get_spans_from_arrays(starts: List[int], ends: List[int]) -> List:\n",
    "    spans: List[Tuple[int, int]] = []\n",
    "    start_idx = 0\n",
    "    inside = False\n",
    "    for i in range(len(starts)):\n",
    "        if starts[i]:\n",
    "            inside = True\n",
    "            start_idx = i\n",
    "        if ends[i] and inside:\n",
    "            spans.append((start_idx, i))\n",
    "            inside = False\n",
    "    return spans"
   ]
  },
  {
   "cell_type": "code",
   "execution_count": 15,
   "metadata": {},
   "outputs": [],
   "source": [
    "def highlight_answers(context: List[str], answers: List[Tuple[int, int]], color: str = bcolors.OKBLUE) -> str:\n",
    "    \"\"\"\n",
    "    Helper function that prints answer using Python's native coloring.\n",
    "    \"\"\"\n",
    "    buffer: List[str] = []\n",
    "    answers = sorted(answers)\n",
    "    starts = set(a[0] for a in answers)\n",
    "    ends = set(a[1] for a in answers)\n",
    "    for i, token in enumerate(context):\n",
    "        if i in starts:\n",
    "            buffer.append(color)\n",
    "        buffer.append(str(token))\n",
    "        if i in ends:\n",
    "            buffer.append(bcolors.ENDC)\n",
    "    return ' '.join(buffer)"
   ]
  },
  {
   "cell_type": "code",
   "execution_count": 67,
   "metadata": {},
   "outputs": [
    {
     "name": "stdout",
     "output_type": "stream",
     "text": [
      "1 \u001b[94m 2 3 \u001b[0m\n"
     ]
    }
   ],
   "source": [
    "print(highlight_answers(['1', '2', '3'], [(1, 2)]))"
   ]
  },
  {
   "cell_type": "code",
   "execution_count": 57,
   "metadata": {},
   "outputs": [
    {
     "data": {
      "text/plain": [
       "(2, 28)"
      ]
     },
     "execution_count": 57,
     "metadata": {},
     "output_type": "execute_result"
    }
   ],
   "source": [
    "res['start_logits'].T.shape"
   ]
  },
  {
   "cell_type": "code",
   "execution_count": 55,
   "metadata": {},
   "outputs": [
    {
     "data": {
      "text/plain": [
       "28"
      ]
     },
     "execution_count": 55,
     "metadata": {},
     "output_type": "execute_result"
    }
   ],
   "source": [
    "len(inst['context'].tokens)"
   ]
  },
  {
   "cell_type": "code",
   "execution_count": 21,
   "metadata": {},
   "outputs": [
    {
     "data": {
      "image/png": "[encoded data removed]",
      "text/plain": [
       "<Figure size 1296x216 with 1 Axes>"
      ]
     },
     "metadata": {
      "needs_background": "light"
     },
     "output_type": "display_data"
    }
   ],
   "source": [
    "plt.figure(figsize=(18, 3))\n"
   ]
  },
  {
   "cell_type": "code",
   "execution_count": 22,
   "metadata": {},
   "outputs": [
    {
     "data": {
      "text/plain": [
       "array([0, 0, 0, 0, 0, 0, 0, 0, 0, 0, 0, 0, 0, 0, 0, 0, 0, 0, 1, 0, 0, 0,\n",
       "       0, 0, 0, 0, 0, 0])"
      ]
     },
     "execution_count": 22,
     "metadata": {},
     "output_type": "execute_result"
    }
   ],
   "source": [
    "res['start_logits'].argmax(axis=1)"
   ]
  },
  {
   "cell_type": "code",
   "execution_count": 86,
   "metadata": {},
   "outputs": [
    {
     "name": "stdout",
     "output_type": "stream",
     "text": [
      "Instance with fields:\n",
      " \t context: TextField of length 25 with text: \n",
      " \t\t[[CLS], people,, including, fictional, [SEP], Al, Gore, 's, top, campaign, aides, ,, his, children,\n",
      "\t\t,, Republican, senators, and, congressmen, ,, they, were, all, there, .]\n",
      " \t\tand TokenIndexers : {'tokens': 'PretrainedBertIndexer'} \n",
      " \t meta: MetadataField (print field.metadata to see specific information). \n",
      " \t answer_starts: SequenceLabelField of length 25 with labels:\n",
      " \t\t[False, False, False, False, False, True, False, False, False, False, False, False, False, False,\n",
      "\t\tFalse, False, False, False, False, False, False, False, False, False, False]\n",
      " \t\tin namespace: 'labels'. \n",
      " \t answer_ends: SequenceLabelField of length 25 with labels:\n",
      " \t\t[False, False, False, False, False, False, False, True, False, False, False, False, False, False,\n",
      "\t\tFalse, False, False, False, False, False, False, False, False, False, False]\n",
      " \t\tin namespace: 'labels'. \n",
      "\n",
      "PERSON\n"
     ]
    }
   ],
   "source": []
  },
  {
   "cell_type": "code",
   "execution_count": null,
   "metadata": {},
   "outputs": [],
   "source": []
  }
 ],
 "metadata": {
  "kernelspec": {
   "display_name": "Python 3",
   "language": "python",
   "name": "python3"
  },
  "language_info": {
   "codemirror_mode": {
    "name": "ipython",
    "version": 3
   },
   "file_extension": ".py",
   "mimetype": "text/x-python",
   "name": "python",
   "nbconvert_exporter": "python",
   "pygments_lexer": "ipython3",
   "version": "3.7.0"
  }
 },
 "nbformat": 4,
 "nbformat_minor": 4
}
